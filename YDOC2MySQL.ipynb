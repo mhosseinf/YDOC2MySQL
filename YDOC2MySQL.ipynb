{
 "cells": [
  {
   "cell_type": "code",
   "execution_count": null,
   "id": "43744351-b57b-4bbd-83ef-746c1c3b42a5",
   "metadata": {},
   "outputs": [],
   "source": [
    "# Importing Required Libraries\n",
    "import os\n",
    "import pandas as pd\n",
    "import mysql.connector"
   ]
  },
  {
   "cell_type": "code",
   "execution_count": null,
   "id": "f39d3207-950e-4daa-80ad-a8fd23a66428",
   "metadata": {},
   "outputs": [],
   "source": [
    "# MySQL database configuration\n",
    "# MYSQL_HOST = \"localhost\"\n",
    "# MYSQL_USER = \"root\"\n",
    "# MYSQL_PASSWORD = \"Password!!\"\n",
    "MYSQL_HOST = \"localhost\"\n",
    "MYSQL_USER = \"mh30f\"\n",
    "MYSQL_PASSWORD = \"Moh@1977\""
   ]
  },
  {
   "cell_type": "code",
   "execution_count": null,
   "id": "d0ee22fa-1441-41f8-bbda-356629cabdac",
   "metadata": {},
   "outputs": [],
   "source": [
    " # function ensures dates are converted to YYYY-MM-DD format. \n",
    "def convert_date_format(date_str):\n",
    "    if isinstance(date_str, str) and date_str != '0':\n",
    "        parts = date_str.split('/')\n",
    "        if len(parts) == 3:\n",
    "            if len(parts[0]) == 4:  # YYYY/MM/DD\n",
    "                return '-'.join(parts)\n",
    "            else:  # DD/MM/YYYY\n",
    "                return '-'.join(parts[::-1])\n",
    "    return '0000-00-00'"
   ]
  },
  {
   "cell_type": "code",
   "execution_count": null,
   "id": "97c65b4a-1ef5-45fd-a3e4-7e4d1fdcfd01",
   "metadata": {},
   "outputs": [],
   "source": [
    "# The main() function handles the core logic of connecting to MySQL, processing CSV files, and inserting data.\n",
    "def main():\n",
    "    try:\n",
    "        # Connect to MySQL\n",
    "        connection = mysql.connector.connect(\n",
    "            host=MYSQL_HOST,\n",
    "            user=MYSQL_USER,\n",
    "            password=MYSQL_PASSWORD,\n",
    "            auth_plugin=\"mysql_native_password\"\n",
    "        )\n",
    "        cursor = connection.cursor()\n",
    "\n",
    "        # Get list of CSV files in current directory\n",
    "        # files = [f for f in os.listdir('.') if f.endswith('.csv')]\n",
    "        resources_dir = os.path.join(os.path.dirname(os.path.abspath(__file__)), 'Resources')\n",
    "        files = [f for f in os.listdir(resources_dir) if f.endswith('.csv')]\n",
    "\n",
    "        for file_name in files:\n",
    "            db_name = os.path.basename(os.path.dirname(os.path.abspath(__file__)))\n",
    "            table_name = os.path.splitext(file_name)[0]\n",
    "\n",
    "            # Read CSV into DataFrame\n",
    "            df = pd.read_csv(file_name, skiprows=[1, 2])\n",
    "            df.columns = df.columns.str.strip().str.replace(' ', '_')\n",
    "\n",
    "            if 'Date' in df.columns and 'Time' in df.columns:\n",
    "                df['Time'] = pd.to_datetime(df['Date'] + ' ' + df['Time'], errors='coerce', dayfirst=True)\n",
    "                df.drop(columns=['Date'], inplace=True)\n",
    "                df['Time'] = df['Time'].apply(convert_date_format)\n",
    "\n",
    "            # Create database and table\n",
    "            cursor.execute(f\"CREATE DATABASE IF NOT EXISTS {db_name}\")\n",
    "            cursor.execute(f\"USE {db_name}\")\n",
    "            \n",
    "            create_table_query = \"CREATE TABLE IF NOT EXISTS {table_name} (\"\n",
    "            for col in df.columns:\n",
    "                dtype = 'float'\n",
    "                if col == 'Time':\n",
    "                    dtype = 'datetime DEFAULT NULL'\n",
    "                elif pd.api.types.is_integer_dtype(df[col]):\n",
    "                    dtype = 'int'\n",
    "                elif pd.api.types.is_string_dtype(df[col]):\n",
    "                    dtype = 'varchar(255)'\n",
    "                create_table_query += f\"`{col}` {dtype}, \"\n",
    "            create_table_query = create_table_query.rstrip(', ') + \")\"\n",
    "            cursor.execute(create_table_query)\n",
    "\n",
    "            # Batch insert rows\n",
    "            rows = [tuple(row) for row in df.itertuples(index=False, name=None)]\n",
    "            placeholders = ', '.join(['%s'] * len(df.columns))\n",
    "            insert_query = f\"INSERT INTO {table_name} ({', '.join(df.columns)}) VALUES ({placeholders})\"\n",
    "            cursor.executemany(insert_query, rows)\n",
    "\n",
    "        connection.commit()\n",
    "\n",
    "    except mysql.connector.Error"
   ]
  },
  {
   "cell_type": "code",
   "execution_count": null,
   "id": "c990a731-f901-428e-aa1c-31df1ef52776",
   "metadata": {},
   "outputs": [],
   "source": [
    "if __name__ == \"__main__\":\n",
    "    main()"
   ]
  }
 ],
 "metadata": {
  "kernelspec": {
   "display_name": "Python 3 (ipykernel)",
   "language": "python",
   "name": "python3"
  },
  "language_info": {
   "codemirror_mode": {
    "name": "ipython",
    "version": 3
   },
   "file_extension": ".py",
   "mimetype": "text/x-python",
   "name": "python",
   "nbconvert_exporter": "python",
   "pygments_lexer": "ipython3",
   "version": "3.11.3"
  }
 },
 "nbformat": 4,
 "nbformat_minor": 5
}
